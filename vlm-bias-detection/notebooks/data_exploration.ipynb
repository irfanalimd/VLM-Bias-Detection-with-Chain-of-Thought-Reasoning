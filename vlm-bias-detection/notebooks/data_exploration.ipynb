print(f"\\nCaption length statistics:\")\n",
    "df['caption_length'] = df['caption'].str.len()\n",
    "print(df['caption_length'].describe())\n",
    "\n",
    "print(f\"\\nReasoning length statistics:\")\n",
    "df['reasoning_length'] = df['reasoning'].str.len()\n",
    "print(df['reasoning_length'].describe())"
   ]
  },
  {
   "cell_type": "markdown",
   "metadata": {},
   "source": [
    "## 3. Visualize Bias Distribution"
   ]
  },
  {
   "cell_type": "code",
   "execution_count": null,
   "metadata": {},
   "outputs": [],
   "source": [
    "plt.figure(figsize=(10, 6))\n",
    "bias_counts = df['bias_label'].value_counts()\n",
    "colors = ['#ff6b6b', '#4ecdc4']\n",
    "\n",
    "plt.bar(bias_counts.index, bias_counts.values, color=colors, edgecolor='black', linewidth=2)\n",
    "plt.title('Distribution of Bias Labels', fontsize=16, fontweight='bold')\n",
    "plt.xlabel('Bias Label', fontsize=12)\n",
    "plt.ylabel('Count', fontsize=12)\n",
    "plt.grid(axis='y', alpha=0.3)\n",
    "\n",
    "for i, v in enumerate(bias_counts.values):\n",
    "    plt.text(i, v + 0.1, str(v), ha='center', va='bottom', fontweight='bold')\n",
    "\n",
    "plt.tight_layout()\n",
    "plt.show()"
   ]
  },
  {
   "cell_type": "markdown",
   "metadata": {},
   "source": [
    "## 4. Caption Length Analysis"
   ]
  },
  {
   "cell_type": "code",
   "execution_count": null,
   "metadata": {},
   "outputs": [],
   "source": [
    "fig, axes = plt.subplots(1, 2, figsize=(15, 5))\n",
    "\n",
    "# Caption length by bias label\n",
    "for label in df['bias_label'].unique():\n",
    "    data = df[df['bias_label'] == label]['caption_length']\n",
    "    axes[0].hist(data, alpha=0.6, label=label, bins=20)\n",
    "\n",
    "axes[0].set_title('Caption Length Distribution by Bias Label', fontsize=14, fontweight='bold')\n",
    "axes[0].set_xlabel('Caption Length (characters)')\n",
    "axes[0].set_ylabel('Frequency')\n",
    "axes[0].legend()\n",
    "axes[0].grid(axis='y', alpha=0.3)\n",
    "\n",
    "# Reasoning length distribution\n",
    "axes[1].hist(df['reasoning_length'], bins=20, color='skyblue', edgecolor='black')\n",
    "axes[1].axvline(df['reasoning_length'].mean(), color='red', linestyle='--', linewidth=2, label='Mean')\n",
    "axes[1].set_title('Reasoning Length Distribution', fontsize=14, fontweight='bold')\n",
    "axes[1].set_xlabel('Reasoning Length (characters)')\n",
    "axes[1].set_ylabel('Frequency')\n",
    "axes[1].legend()\n",
    "axes[1].grid(axis='y', alpha=0.3)\n",
    "\n",
    "plt.tight_layout()\n",
    "plt.show()"
   ]
  },
  {
   "cell_type": "markdown",
   "metadata": {},
   "source": [
    "## 5. Word Frequency Analysis"
   ]
  },
  {
   "cell_type": "code",
   "execution_count": null,
   "metadata": {},
   "outputs": [],
   "source": [
    "from collections import Counter\n",
    "import re\n",
    "\n",
    "def get_word_freq(texts):\n",
    "    \"\"\"Get word frequency from texts.\"\"\"\n",
    "    words = []\n",
    "    for text in texts:\n",
    "        words.extend(re.findall(r'\\b\\w+\\b', text.lower()))\n",
    "    return Counter(words)\n",
    "\n",
    "# Get word frequencies for biased vs not biased\n",
    "biased_captions = df[df['bias_label'] == 'Biased']['caption']\n",
    "not_biased_captions = df[df['bias_label'] == 'Not Biased']['caption']\n",
    "\n",
    "biased_words = get_word_freq(biased_captions)\n",
    "not_biased_words = get_word_freq(not_biased_captions)\n",
    "\n",
    "print(\"Top 10 words in BIASED captions:\")\n",
    "for word, count in biased_words.most_common(10):\n",
    "    print(f\"  {word}: {count}\")\n",
    "\n",
    "print(\"\\nTop 10 words in NOT BIASED captions:\")\n",
    "for word, count in not_biased_words.most_common(10):\n",
    "    print(f\"  {word}: {count}\")"
   ]
  },
  {
   "cell_type": "markdown",
   "metadata": {},
   "source": [
    "## 6. Gendered Terms Analysis"
   ]
  },
  {
   "cell_type": "code",
   "execution_count": null,
   "metadata": {},
   "outputs": [],
   "source": [
    "# Define gendered terms\n",
    "male_terms = ['man', 'men', 'male', 'he', 'him', 'his', 'boy', 'guy']\n",
    "female_terms = ['woman', 'women', 'female', 'she', 'her', 'girl', 'lady']\n",
    "\n",
    "def count_gendered_terms(text):\n",
    "    \"\"\"Count gendered terms in text.\"\"\"\n",
    "    text_lower = text.lower()\n",
    "    male_count = sum(text_lower.count(term) for term in male_terms)\n",
    "    female_count = sum(text_lower.count(term) for term in female_terms)\n",
    "    return {'male': male_count, 'female': female_count}\n",
    "\n",
    "# Analyze gendered terms\n",
    "df['gender_terms'] = df['caption'].apply(count_gendered_terms)\n",
    "df['male_terms'] = df['gender_terms'].apply(lambda x: x['male'])\n",
    "df['female_terms'] = df['gender_terms'].apply(lambda x: x['female'])\n",
    "\n",
    "print(\"Gendered Terms Statistics:\")\n",
    "print(f\"Total male terms: {df['male_terms'].sum()}\")\n",
    "print(f\"Total female terms: {df['female_terms'].sum()}\")\n",
    "print(f\"Ratio: {df['male_terms'].sum() / max(df['female_terms'].sum(), 1):.2f}\")"
   ]
  },
  {
   "cell_type": "markdown",
   "metadata": {},
   "source": [
    "## 7. Sample Examples"
   ]
  },
  {
   "cell_type": "code",
   "execution_count": null,
   "metadata": {},
   "outputs": [],
   "source": [
    "print(\"=\" * 80)\n",
    "print(\"SAMPLE BIASED EXAMPLE\")\n",
    "print(\"=\" * 80)\n",
    "\n",
    "biased_sample = df[df['bias_label'] == 'Biased'].iloc[0]\n",
    "print(f\"Caption: {biased_sample['caption']}\")\n",
    "print(f\"\\nReasoning: {biased_sample['reasoning'][:300]}...\")\n",
    "print(f\"\\nLabel: {biased_sample['bias_label']}\")\n",
    "\n",
    "print(\"\\n\" + \"=\" * 80)\n",
    "print(\"SAMPLE NOT BIASED EXAMPLE\")\n",
    "print(\"=\" * 80)\n",
    "\n",
    "not_biased_sample = df[df['bias_label'] == 'Not Biased'].iloc[0]\n",
    "print(f\"Caption: {not_biased_sample['caption']}\")\n",
    "print(f\"\\nReasoning: {not_biased_sample['reasoning'][:300]}...\")\n",
    "print(f\"\\nLabel: {not_biased_sample['bias_label']}\")"
   ]
  },
  {
   "cell_type": "markdown",
   "metadata": {},
   "source": [
    {
 "cells": [
  {
   "cell_type": "markdown",
   "metadata": {},
   "source": [
    "# Data Exploration for Bias Detection\n",
    "\n",
    "This notebook explores the dataset used for training the bias detection model."
   ]
  },
  {
   "cell_type": "code",
   "execution_count": null,
   "metadata": {},
   "outputs": [],
   "source": [
    "import json\n",
    "import pandas as pd\n",
    "import matplotlib.pyplot as plt\n",
    "import seaborn as sns\n",
    "from collections import Counter\n",
    "import numpy as np\n",
    "\n",
    "# Set style\n",
    "sns.set_style(\"whitegrid\")\n",
    "plt.rcParams['figure.figsize'] = (12, 6)"
   ]
  },
  {
   "cell_type": "markdown",
   "metadata": {},
   "source": [
    "## 1. Load Data"
   ]
  },
  {
   "cell_type": "code",
   "execution_count": null,
   "metadata": {},
   "outputs": [],
   "source": [
    "def load_jsonl(file_path):\n",
    "    \"\"\"Load data from JSONL file.\"\"\"\n",
    "    data = []\n",
    "    with open(file_path, 'r') as f:\n",
    "        for line in f:\n",
    "            try:\n",
    "                data.append(json.loads(line.strip()))\n",
    "            except:\n",
    "                continue\n",
    "    return data\n",
    "\n",
    "# Load sample data\n",
    "data = load_jsonl('../data/sample_data.jsonl')\n",
    "print(f\"Loaded {len(data)} samples\")\n",
    "\n",
    "# Convert to DataFrame\n",
    "df = pd.DataFrame(data)\n",
    "df.head()"
   ]
  },
  {
   "cell_type": "markdown",
   "metadata": {},
   "source": [
    "## 2. Dataset Statistics"
   ]
  },
  {
   "cell_type": "code",
   "execution_count": null,
   "metadata": {},
   "outputs": [],
   "source": [
    "print(\"Dataset Statistics:\")\n",
    "print(f\"Total samples: {len(df)}\")\n",
    "print(f\"\\nBias Label Distribution:\")\n",
    "print(df['bias_label'].value_counts())\n",
    "print(f\"\\nCaption length statistics:\")\n",
    "df['caption_
